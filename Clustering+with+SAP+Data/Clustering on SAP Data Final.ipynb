{
 "cells": [
  {
   "cell_type": "code",
   "execution_count": 3,
   "metadata": {},
   "outputs": [],
   "source": [
    "#Import the Libraries\n",
    "import pandas as pd\n",
    "from datetime import timedelta\n",
    "import matplotlib.pyplot as plt\n",
    "import seaborn as sns\n",
    "import numpy as np\n",
    "sns.set_style(\"darkgrid\")\n",
    "%matplotlib inline"
   ]
  },
  {
   "cell_type": "code",
   "execution_count": 4,
   "metadata": {},
   "outputs": [
    {
     "data": {
      "text/html": [
       "<div>\n",
       "<style scoped>\n",
       "    .dataframe tbody tr th:only-of-type {\n",
       "        vertical-align: middle;\n",
       "    }\n",
       "\n",
       "    .dataframe tbody tr th {\n",
       "        vertical-align: top;\n",
       "    }\n",
       "\n",
       "    .dataframe thead th {\n",
       "        text-align: right;\n",
       "    }\n",
       "</style>\n",
       "<table border=\"1\" class=\"dataframe\">\n",
       "  <thead>\n",
       "    <tr style=\"text-align: right;\">\n",
       "      <th></th>\n",
       "      <th>Bill. Doc.</th>\n",
       "      <th>Sold-To Pt</th>\n",
       "      <th>Billing Date</th>\n",
       "      <th>SOrg.</th>\n",
       "      <th>Material</th>\n",
       "      <th>Net Value</th>\n",
       "      <th>Curr.</th>\n",
       "    </tr>\n",
       "  </thead>\n",
       "  <tbody>\n",
       "    <tr>\n",
       "      <th>0</th>\n",
       "      <td>90536365</td>\n",
       "      <td>100017850</td>\n",
       "      <td>2019-12-01</td>\n",
       "      <td>9500</td>\n",
       "      <td>85123A</td>\n",
       "      <td>15.30</td>\n",
       "      <td>EUR</td>\n",
       "    </tr>\n",
       "    <tr>\n",
       "      <th>1</th>\n",
       "      <td>90536365</td>\n",
       "      <td>100017850</td>\n",
       "      <td>2019-12-01</td>\n",
       "      <td>9500</td>\n",
       "      <td>71053</td>\n",
       "      <td>20.34</td>\n",
       "      <td>EUR</td>\n",
       "    </tr>\n",
       "    <tr>\n",
       "      <th>2</th>\n",
       "      <td>90536365</td>\n",
       "      <td>100017850</td>\n",
       "      <td>2019-12-01</td>\n",
       "      <td>9500</td>\n",
       "      <td>84406B</td>\n",
       "      <td>22.00</td>\n",
       "      <td>EUR</td>\n",
       "    </tr>\n",
       "    <tr>\n",
       "      <th>3</th>\n",
       "      <td>90536365</td>\n",
       "      <td>100017850</td>\n",
       "      <td>2019-12-01</td>\n",
       "      <td>9500</td>\n",
       "      <td>84029G</td>\n",
       "      <td>20.34</td>\n",
       "      <td>EUR</td>\n",
       "    </tr>\n",
       "    <tr>\n",
       "      <th>4</th>\n",
       "      <td>90536365</td>\n",
       "      <td>100017850</td>\n",
       "      <td>2019-12-01</td>\n",
       "      <td>9500</td>\n",
       "      <td>84029E</td>\n",
       "      <td>20.34</td>\n",
       "      <td>EUR</td>\n",
       "    </tr>\n",
       "  </tbody>\n",
       "</table>\n",
       "</div>"
      ],
      "text/plain": [
       "   Bill. Doc.  Sold-To Pt Billing Date  SOrg. Material  Net Value Curr.\n",
       "0    90536365   100017850   2019-12-01   9500   85123A      15.30   EUR\n",
       "1    90536365   100017850   2019-12-01   9500    71053      20.34   EUR\n",
       "2    90536365   100017850   2019-12-01   9500   84406B      22.00   EUR\n",
       "3    90536365   100017850   2019-12-01   9500   84029G      20.34   EUR\n",
       "4    90536365   100017850   2019-12-01   9500   84029E      20.34   EUR"
      ]
     },
     "execution_count": 4,
     "metadata": {},
     "output_type": "execute_result"
    }
   ],
   "source": [
    "#Load the dataset\n",
    "shop = pd.read_excel(\"Invoice Data 1.xlsx\")\n",
    "shop.head()"
   ]
  },
  {
   "cell_type": "code",
   "execution_count": 5,
   "metadata": {},
   "outputs": [
    {
     "name": "stdout",
     "output_type": "stream",
     "text": [
      "<class 'pandas.core.frame.DataFrame'>\n",
      "RangeIndex: 397924 entries, 0 to 397923\n",
      "Data columns (total 7 columns):\n",
      " #   Column        Non-Null Count   Dtype         \n",
      "---  ------        --------------   -----         \n",
      " 0   Bill. Doc.    397924 non-null  int64         \n",
      " 1   Sold-To Pt    397924 non-null  int64         \n",
      " 2   Billing Date  397924 non-null  datetime64[ns]\n",
      " 3   SOrg.         397924 non-null  int64         \n",
      " 4   Material      397924 non-null  object        \n",
      " 5   Net Value     397924 non-null  float64       \n",
      " 6   Curr.         397924 non-null  object        \n",
      "dtypes: datetime64[ns](1), float64(1), int64(3), object(2)\n",
      "memory usage: 21.3+ MB\n"
     ]
    }
   ],
   "source": [
    "shop.info()"
   ]
  },
  {
   "cell_type": "code",
   "execution_count": 6,
   "metadata": {},
   "outputs": [],
   "source": [
    "#Set column names\n",
    "shop.columns = [\"InvoiceNo\",\"CustomerID\",\"InvoiceDate\",\"SalesOrg\",\"Material\",\"NetValue\",\"Currency\"]"
   ]
  },
  {
   "cell_type": "code",
   "execution_count": 7,
   "metadata": {},
   "outputs": [
    {
     "data": {
      "text/html": [
       "<div>\n",
       "<style scoped>\n",
       "    .dataframe tbody tr th:only-of-type {\n",
       "        vertical-align: middle;\n",
       "    }\n",
       "\n",
       "    .dataframe tbody tr th {\n",
       "        vertical-align: top;\n",
       "    }\n",
       "\n",
       "    .dataframe thead th {\n",
       "        text-align: right;\n",
       "    }\n",
       "</style>\n",
       "<table border=\"1\" class=\"dataframe\">\n",
       "  <thead>\n",
       "    <tr style=\"text-align: right;\">\n",
       "      <th></th>\n",
       "      <th>InvoiceNo</th>\n",
       "      <th>CustomerID</th>\n",
       "      <th>InvoiceDate</th>\n",
       "      <th>SalesOrg</th>\n",
       "      <th>Material</th>\n",
       "      <th>NetValue</th>\n",
       "      <th>Currency</th>\n",
       "    </tr>\n",
       "  </thead>\n",
       "  <tbody>\n",
       "    <tr>\n",
       "      <th>0</th>\n",
       "      <td>90536365</td>\n",
       "      <td>100017850</td>\n",
       "      <td>2019-12-01</td>\n",
       "      <td>9500</td>\n",
       "      <td>85123A</td>\n",
       "      <td>15.30</td>\n",
       "      <td>EUR</td>\n",
       "    </tr>\n",
       "    <tr>\n",
       "      <th>1</th>\n",
       "      <td>90536365</td>\n",
       "      <td>100017850</td>\n",
       "      <td>2019-12-01</td>\n",
       "      <td>9500</td>\n",
       "      <td>71053</td>\n",
       "      <td>20.34</td>\n",
       "      <td>EUR</td>\n",
       "    </tr>\n",
       "    <tr>\n",
       "      <th>2</th>\n",
       "      <td>90536365</td>\n",
       "      <td>100017850</td>\n",
       "      <td>2019-12-01</td>\n",
       "      <td>9500</td>\n",
       "      <td>84406B</td>\n",
       "      <td>22.00</td>\n",
       "      <td>EUR</td>\n",
       "    </tr>\n",
       "    <tr>\n",
       "      <th>3</th>\n",
       "      <td>90536365</td>\n",
       "      <td>100017850</td>\n",
       "      <td>2019-12-01</td>\n",
       "      <td>9500</td>\n",
       "      <td>84029G</td>\n",
       "      <td>20.34</td>\n",
       "      <td>EUR</td>\n",
       "    </tr>\n",
       "    <tr>\n",
       "      <th>4</th>\n",
       "      <td>90536365</td>\n",
       "      <td>100017850</td>\n",
       "      <td>2019-12-01</td>\n",
       "      <td>9500</td>\n",
       "      <td>84029E</td>\n",
       "      <td>20.34</td>\n",
       "      <td>EUR</td>\n",
       "    </tr>\n",
       "  </tbody>\n",
       "</table>\n",
       "</div>"
      ],
      "text/plain": [
       "   InvoiceNo  CustomerID InvoiceDate  SalesOrg Material  NetValue Currency\n",
       "0   90536365   100017850  2019-12-01      9500   85123A     15.30      EUR\n",
       "1   90536365   100017850  2019-12-01      9500    71053     20.34      EUR\n",
       "2   90536365   100017850  2019-12-01      9500   84406B     22.00      EUR\n",
       "3   90536365   100017850  2019-12-01      9500   84029G     20.34      EUR\n",
       "4   90536365   100017850  2019-12-01      9500   84029E     20.34      EUR"
      ]
     },
     "execution_count": 7,
     "metadata": {},
     "output_type": "execute_result"
    }
   ],
   "source": [
    "shop.head()"
   ]
  },
  {
   "cell_type": "code",
   "execution_count": 8,
   "metadata": {},
   "outputs": [
    {
     "name": "stdout",
     "output_type": "stream",
     "text": [
      "<class 'pandas.core.frame.DataFrame'>\n",
      "RangeIndex: 397924 entries, 0 to 397923\n",
      "Data columns (total 7 columns):\n",
      " #   Column       Non-Null Count   Dtype         \n",
      "---  ------       --------------   -----         \n",
      " 0   InvoiceNo    397924 non-null  int64         \n",
      " 1   CustomerID   397924 non-null  int64         \n",
      " 2   InvoiceDate  397924 non-null  datetime64[ns]\n",
      " 3   SalesOrg     397924 non-null  int64         \n",
      " 4   Material     397924 non-null  object        \n",
      " 5   NetValue     397924 non-null  float64       \n",
      " 6   Currency     397924 non-null  object        \n",
      "dtypes: datetime64[ns](1), float64(1), int64(3), object(2)\n",
      "memory usage: 21.3+ MB\n"
     ]
    }
   ],
   "source": [
    "shop.info()"
   ]
  },
  {
   "cell_type": "code",
   "execution_count": 9,
   "metadata": {},
   "outputs": [],
   "source": [
    "#Invoice date is already recognized  as datetime object, but run the below cell if its not detected as date time\n",
    "# Convert InvoiceDate from object to datetime format\n",
    "shop['InvoiceDate'] = pd.to_datetime(shop['InvoiceDate'])"
   ]
  },
  {
   "cell_type": "code",
   "execution_count": 10,
   "metadata": {},
   "outputs": [
    {
     "name": "stdout",
     "output_type": "stream",
     "text": [
      "<class 'pandas.core.frame.DataFrame'>\n",
      "RangeIndex: 397924 entries, 0 to 397923\n",
      "Data columns (total 7 columns):\n",
      " #   Column       Non-Null Count   Dtype         \n",
      "---  ------       --------------   -----         \n",
      " 0   InvoiceNo    397924 non-null  int64         \n",
      " 1   CustomerID   397924 non-null  int64         \n",
      " 2   InvoiceDate  397924 non-null  datetime64[ns]\n",
      " 3   SalesOrg     397924 non-null  int64         \n",
      " 4   Material     397924 non-null  object        \n",
      " 5   NetValue     397924 non-null  float64       \n",
      " 6   Currency     397924 non-null  object        \n",
      "dtypes: datetime64[ns](1), float64(1), int64(3), object(2)\n",
      "memory usage: 21.3+ MB\n"
     ]
    }
   ],
   "source": [
    "shop.info()\n",
    "#No Missing entries"
   ]
  },
  {
   "cell_type": "code",
   "execution_count": 11,
   "metadata": {},
   "outputs": [
    {
     "data": {
      "text/html": [
       "<div>\n",
       "<style scoped>\n",
       "    .dataframe tbody tr th:only-of-type {\n",
       "        vertical-align: middle;\n",
       "    }\n",
       "\n",
       "    .dataframe tbody tr th {\n",
       "        vertical-align: top;\n",
       "    }\n",
       "\n",
       "    .dataframe thead th {\n",
       "        text-align: right;\n",
       "    }\n",
       "</style>\n",
       "<table border=\"1\" class=\"dataframe\">\n",
       "  <thead>\n",
       "    <tr style=\"text-align: right;\">\n",
       "      <th></th>\n",
       "      <th>InvoiceNo</th>\n",
       "      <th>CustomerID</th>\n",
       "      <th>InvoiceDate</th>\n",
       "      <th>SalesOrg</th>\n",
       "      <th>Material</th>\n",
       "      <th>NetValue</th>\n",
       "      <th>Currency</th>\n",
       "    </tr>\n",
       "  </thead>\n",
       "  <tbody>\n",
       "    <tr>\n",
       "      <th>0</th>\n",
       "      <td>90536365</td>\n",
       "      <td>100017850</td>\n",
       "      <td>2019-12-01</td>\n",
       "      <td>9500</td>\n",
       "      <td>85123A</td>\n",
       "      <td>15.30</td>\n",
       "      <td>EUR</td>\n",
       "    </tr>\n",
       "    <tr>\n",
       "      <th>1</th>\n",
       "      <td>90536365</td>\n",
       "      <td>100017850</td>\n",
       "      <td>2019-12-01</td>\n",
       "      <td>9500</td>\n",
       "      <td>71053</td>\n",
       "      <td>20.34</td>\n",
       "      <td>EUR</td>\n",
       "    </tr>\n",
       "    <tr>\n",
       "      <th>2</th>\n",
       "      <td>90536365</td>\n",
       "      <td>100017850</td>\n",
       "      <td>2019-12-01</td>\n",
       "      <td>9500</td>\n",
       "      <td>84406B</td>\n",
       "      <td>22.00</td>\n",
       "      <td>EUR</td>\n",
       "    </tr>\n",
       "    <tr>\n",
       "      <th>3</th>\n",
       "      <td>90536365</td>\n",
       "      <td>100017850</td>\n",
       "      <td>2019-12-01</td>\n",
       "      <td>9500</td>\n",
       "      <td>84029G</td>\n",
       "      <td>20.34</td>\n",
       "      <td>EUR</td>\n",
       "    </tr>\n",
       "    <tr>\n",
       "      <th>4</th>\n",
       "      <td>90536365</td>\n",
       "      <td>100017850</td>\n",
       "      <td>2019-12-01</td>\n",
       "      <td>9500</td>\n",
       "      <td>84029E</td>\n",
       "      <td>20.34</td>\n",
       "      <td>EUR</td>\n",
       "    </tr>\n",
       "  </tbody>\n",
       "</table>\n",
       "</div>"
      ],
      "text/plain": [
       "   InvoiceNo  CustomerID InvoiceDate  SalesOrg Material  NetValue Currency\n",
       "0   90536365   100017850  2019-12-01      9500   85123A     15.30      EUR\n",
       "1   90536365   100017850  2019-12-01      9500    71053     20.34      EUR\n",
       "2   90536365   100017850  2019-12-01      9500   84406B     22.00      EUR\n",
       "3   90536365   100017850  2019-12-01      9500   84029G     20.34      EUR\n",
       "4   90536365   100017850  2019-12-01      9500   84029E     20.34      EUR"
      ]
     },
     "execution_count": 11,
     "metadata": {},
     "output_type": "execute_result"
    }
   ],
   "source": [
    "shop.head()"
   ]
  },
  {
   "cell_type": "code",
   "execution_count": 12,
   "metadata": {},
   "outputs": [
    {
     "data": {
      "text/plain": [
       "array(['EUR'], dtype=object)"
      ]
     },
     "execution_count": 12,
     "metadata": {},
     "output_type": "execute_result"
    }
   ],
   "source": [
    "shop[\"Currency\"].unique()"
   ]
  },
  {
   "cell_type": "code",
   "execution_count": null,
   "metadata": {},
   "outputs": [],
   "source": [
    "#shop.drop([\"SalesOrg\",\"Currency\"],axis=1,inplace=True)"
   ]
  },
  {
   "cell_type": "code",
   "execution_count": 13,
   "metadata": {},
   "outputs": [],
   "source": [
    "#Only One Currency in the dataset\n",
    "#Removing the columns which are not required for our purpose\n",
    "shop.drop(columns=[\"SalesOrg\",\"Currency\"],inplace=True)"
   ]
  },
  {
   "cell_type": "code",
   "execution_count": 14,
   "metadata": {},
   "outputs": [
    {
     "data": {
      "text/html": [
       "<div>\n",
       "<style scoped>\n",
       "    .dataframe tbody tr th:only-of-type {\n",
       "        vertical-align: middle;\n",
       "    }\n",
       "\n",
       "    .dataframe tbody tr th {\n",
       "        vertical-align: top;\n",
       "    }\n",
       "\n",
       "    .dataframe thead th {\n",
       "        text-align: right;\n",
       "    }\n",
       "</style>\n",
       "<table border=\"1\" class=\"dataframe\">\n",
       "  <thead>\n",
       "    <tr style=\"text-align: right;\">\n",
       "      <th></th>\n",
       "      <th>InvoiceNo</th>\n",
       "      <th>CustomerID</th>\n",
       "      <th>InvoiceDate</th>\n",
       "      <th>Material</th>\n",
       "      <th>NetValue</th>\n",
       "    </tr>\n",
       "  </thead>\n",
       "  <tbody>\n",
       "    <tr>\n",
       "      <th>0</th>\n",
       "      <td>90536365</td>\n",
       "      <td>100017850</td>\n",
       "      <td>2019-12-01</td>\n",
       "      <td>85123A</td>\n",
       "      <td>15.30</td>\n",
       "    </tr>\n",
       "    <tr>\n",
       "      <th>1</th>\n",
       "      <td>90536365</td>\n",
       "      <td>100017850</td>\n",
       "      <td>2019-12-01</td>\n",
       "      <td>71053</td>\n",
       "      <td>20.34</td>\n",
       "    </tr>\n",
       "    <tr>\n",
       "      <th>2</th>\n",
       "      <td>90536365</td>\n",
       "      <td>100017850</td>\n",
       "      <td>2019-12-01</td>\n",
       "      <td>84406B</td>\n",
       "      <td>22.00</td>\n",
       "    </tr>\n",
       "    <tr>\n",
       "      <th>3</th>\n",
       "      <td>90536365</td>\n",
       "      <td>100017850</td>\n",
       "      <td>2019-12-01</td>\n",
       "      <td>84029G</td>\n",
       "      <td>20.34</td>\n",
       "    </tr>\n",
       "    <tr>\n",
       "      <th>4</th>\n",
       "      <td>90536365</td>\n",
       "      <td>100017850</td>\n",
       "      <td>2019-12-01</td>\n",
       "      <td>84029E</td>\n",
       "      <td>20.34</td>\n",
       "    </tr>\n",
       "  </tbody>\n",
       "</table>\n",
       "</div>"
      ],
      "text/plain": [
       "   InvoiceNo  CustomerID InvoiceDate Material  NetValue\n",
       "0   90536365   100017850  2019-12-01   85123A     15.30\n",
       "1   90536365   100017850  2019-12-01    71053     20.34\n",
       "2   90536365   100017850  2019-12-01   84406B     22.00\n",
       "3   90536365   100017850  2019-12-01   84029G     20.34\n",
       "4   90536365   100017850  2019-12-01   84029E     20.34"
      ]
     },
     "execution_count": 14,
     "metadata": {},
     "output_type": "execute_result"
    }
   ],
   "source": [
    "shop.head()"
   ]
  },
  {
   "cell_type": "code",
   "execution_count": null,
   "metadata": {},
   "outputs": [],
   "source": [
    "#Getting the Transaction Start & End dates"
   ]
  },
  {
   "cell_type": "code",
   "execution_count": 15,
   "metadata": {},
   "outputs": [
    {
     "data": {
      "text/plain": [
       "Timestamp('2019-12-01 00:00:00')"
      ]
     },
     "execution_count": 15,
     "metadata": {},
     "output_type": "execute_result"
    }
   ],
   "source": [
    "shop[\"InvoiceDate\"].min()"
   ]
  },
  {
   "cell_type": "code",
   "execution_count": 16,
   "metadata": {},
   "outputs": [
    {
     "data": {
      "text/plain": [
       "Timestamp('2020-12-09 00:00:00')"
      ]
     },
     "execution_count": 16,
     "metadata": {},
     "output_type": "execute_result"
    }
   ],
   "source": [
    "shop[\"InvoiceDate\"].max()"
   ]
  },
  {
   "cell_type": "markdown",
   "metadata": {},
   "source": [
    "### RFM Analysis"
   ]
  },
  {
   "cell_type": "code",
   "execution_count": 17,
   "metadata": {},
   "outputs": [
    {
     "data": {
      "text/html": [
       "<div>\n",
       "<style scoped>\n",
       "    .dataframe tbody tr th:only-of-type {\n",
       "        vertical-align: middle;\n",
       "    }\n",
       "\n",
       "    .dataframe tbody tr th {\n",
       "        vertical-align: top;\n",
       "    }\n",
       "\n",
       "    .dataframe thead th {\n",
       "        text-align: right;\n",
       "    }\n",
       "</style>\n",
       "<table border=\"1\" class=\"dataframe\">\n",
       "  <thead>\n",
       "    <tr style=\"text-align: right;\">\n",
       "      <th></th>\n",
       "      <th>InvoiceNo</th>\n",
       "      <th>CustomerID</th>\n",
       "      <th>InvoiceDate</th>\n",
       "      <th>Material</th>\n",
       "      <th>NetValue</th>\n",
       "    </tr>\n",
       "  </thead>\n",
       "  <tbody>\n",
       "    <tr>\n",
       "      <th>0</th>\n",
       "      <td>90536365</td>\n",
       "      <td>100017850</td>\n",
       "      <td>2019-12-01</td>\n",
       "      <td>85123A</td>\n",
       "      <td>15.30</td>\n",
       "    </tr>\n",
       "    <tr>\n",
       "      <th>1</th>\n",
       "      <td>90536365</td>\n",
       "      <td>100017850</td>\n",
       "      <td>2019-12-01</td>\n",
       "      <td>71053</td>\n",
       "      <td>20.34</td>\n",
       "    </tr>\n",
       "    <tr>\n",
       "      <th>2</th>\n",
       "      <td>90536365</td>\n",
       "      <td>100017850</td>\n",
       "      <td>2019-12-01</td>\n",
       "      <td>84406B</td>\n",
       "      <td>22.00</td>\n",
       "    </tr>\n",
       "    <tr>\n",
       "      <th>3</th>\n",
       "      <td>90536365</td>\n",
       "      <td>100017850</td>\n",
       "      <td>2019-12-01</td>\n",
       "      <td>84029G</td>\n",
       "      <td>20.34</td>\n",
       "    </tr>\n",
       "    <tr>\n",
       "      <th>4</th>\n",
       "      <td>90536365</td>\n",
       "      <td>100017850</td>\n",
       "      <td>2019-12-01</td>\n",
       "      <td>84029E</td>\n",
       "      <td>20.34</td>\n",
       "    </tr>\n",
       "  </tbody>\n",
       "</table>\n",
       "</div>"
      ],
      "text/plain": [
       "   InvoiceNo  CustomerID InvoiceDate Material  NetValue\n",
       "0   90536365   100017850  2019-12-01   85123A     15.30\n",
       "1   90536365   100017850  2019-12-01    71053     20.34\n",
       "2   90536365   100017850  2019-12-01   84406B     22.00\n",
       "3   90536365   100017850  2019-12-01   84029G     20.34\n",
       "4   90536365   100017850  2019-12-01   84029E     20.34"
      ]
     },
     "execution_count": 17,
     "metadata": {},
     "output_type": "execute_result"
    }
   ],
   "source": [
    "shop.head()"
   ]
  },
  {
   "cell_type": "code",
   "execution_count": 18,
   "metadata": {},
   "outputs": [
    {
     "name": "stdout",
     "output_type": "stream",
     "text": [
      "Snapshot date considered is: 2020-12-10 00:00:00\n"
     ]
    }
   ],
   "source": [
    "# Create snapshot date\n",
    "snapshot_date = shop['InvoiceDate'].max() + timedelta(days=1)\n",
    "print(\"Snapshot date considered is:\",snapshot_date)"
   ]
  },
  {
   "cell_type": "code",
   "execution_count": 19,
   "metadata": {},
   "outputs": [
    {
     "data": {
      "text/html": [
       "<div>\n",
       "<style scoped>\n",
       "    .dataframe tbody tr th:only-of-type {\n",
       "        vertical-align: middle;\n",
       "    }\n",
       "\n",
       "    .dataframe tbody tr th {\n",
       "        vertical-align: top;\n",
       "    }\n",
       "\n",
       "    .dataframe thead th {\n",
       "        text-align: right;\n",
       "    }\n",
       "</style>\n",
       "<table border=\"1\" class=\"dataframe\">\n",
       "  <thead>\n",
       "    <tr style=\"text-align: right;\">\n",
       "      <th></th>\n",
       "      <th>InvoiceDate</th>\n",
       "      <th>InvoiceNo</th>\n",
       "      <th>NetValue</th>\n",
       "    </tr>\n",
       "    <tr>\n",
       "      <th>CustomerID</th>\n",
       "      <th></th>\n",
       "      <th></th>\n",
       "      <th></th>\n",
       "    </tr>\n",
       "  </thead>\n",
       "  <tbody>\n",
       "    <tr>\n",
       "      <th>100012346</th>\n",
       "      <td>327</td>\n",
       "      <td>1</td>\n",
       "      <td>77183.60</td>\n",
       "    </tr>\n",
       "    <tr>\n",
       "      <th>100012347</th>\n",
       "      <td>3</td>\n",
       "      <td>7</td>\n",
       "      <td>4310.00</td>\n",
       "    </tr>\n",
       "    <tr>\n",
       "      <th>100012348</th>\n",
       "      <td>76</td>\n",
       "      <td>4</td>\n",
       "      <td>1797.24</td>\n",
       "    </tr>\n",
       "    <tr>\n",
       "      <th>100012349</th>\n",
       "      <td>19</td>\n",
       "      <td>1</td>\n",
       "      <td>1757.55</td>\n",
       "    </tr>\n",
       "    <tr>\n",
       "      <th>100012350</th>\n",
       "      <td>312</td>\n",
       "      <td>1</td>\n",
       "      <td>334.40</td>\n",
       "    </tr>\n",
       "    <tr>\n",
       "      <th>...</th>\n",
       "      <td>...</td>\n",
       "      <td>...</td>\n",
       "      <td>...</td>\n",
       "    </tr>\n",
       "    <tr>\n",
       "      <th>100018280</th>\n",
       "      <td>278</td>\n",
       "      <td>1</td>\n",
       "      <td>180.60</td>\n",
       "    </tr>\n",
       "    <tr>\n",
       "      <th>100018281</th>\n",
       "      <td>181</td>\n",
       "      <td>1</td>\n",
       "      <td>80.82</td>\n",
       "    </tr>\n",
       "    <tr>\n",
       "      <th>100018282</th>\n",
       "      <td>8</td>\n",
       "      <td>2</td>\n",
       "      <td>178.05</td>\n",
       "    </tr>\n",
       "    <tr>\n",
       "      <th>100018283</th>\n",
       "      <td>4</td>\n",
       "      <td>16</td>\n",
       "      <td>2094.88</td>\n",
       "    </tr>\n",
       "    <tr>\n",
       "      <th>100018287</th>\n",
       "      <td>43</td>\n",
       "      <td>3</td>\n",
       "      <td>1837.28</td>\n",
       "    </tr>\n",
       "  </tbody>\n",
       "</table>\n",
       "<p>4339 rows × 3 columns</p>\n",
       "</div>"
      ],
      "text/plain": [
       "            InvoiceDate  InvoiceNo  NetValue\n",
       "CustomerID                                  \n",
       "100012346           327          1  77183.60\n",
       "100012347             3          7   4310.00\n",
       "100012348            76          4   1797.24\n",
       "100012349            19          1   1757.55\n",
       "100012350           312          1    334.40\n",
       "...                 ...        ...       ...\n",
       "100018280           278          1    180.60\n",
       "100018281           181          1     80.82\n",
       "100018282             8          2    178.05\n",
       "100018283             4         16   2094.88\n",
       "100018287            43          3   1837.28\n",
       "\n",
       "[4339 rows x 3 columns]"
      ]
     },
     "execution_count": 19,
     "metadata": {},
     "output_type": "execute_result"
    }
   ],
   "source": [
    "shop.groupby(['CustomerID']).agg({\n",
    "        'InvoiceDate': lambda x: (snapshot_date - x.max()).days,\n",
    "        'InvoiceNo': 'nunique',\n",
    "        'NetValue': 'sum'})"
   ]
  },
  {
   "cell_type": "code",
   "execution_count": 20,
   "metadata": {},
   "outputs": [
    {
     "name": "stdout",
     "output_type": "stream",
     "text": [
      "Snapshot date considered is: 2020-12-10 00:00:00\n"
     ]
    }
   ],
   "source": [
    "# Create snapshot date\n",
    "snapshot_date = shop['InvoiceDate'].max() + timedelta(days=1)\n",
    "print(\"Snapshot date considered is:\",snapshot_date)\n",
    "\n",
    "# Grouping by CustomerID & Perform R F & M\n",
    "data_process = shop.groupby(['CustomerID']).agg({\n",
    "        'InvoiceDate': lambda x: (snapshot_date - x.max()).days,\n",
    "        'InvoiceNo': 'nunique',\n",
    "        'NetValue': 'sum'})\n",
    "\n",
    "# Rename the columns \n",
    "data_process.rename(columns={'InvoiceDate': 'Recency',\n",
    "                         'InvoiceNo': 'Frequency',\n",
    "                         'NetValue': 'MonetaryValue'}, inplace=True)"
   ]
  },
  {
   "cell_type": "code",
   "execution_count": 21,
   "metadata": {},
   "outputs": [
    {
     "data": {
      "text/html": [
       "<div>\n",
       "<style scoped>\n",
       "    .dataframe tbody tr th:only-of-type {\n",
       "        vertical-align: middle;\n",
       "    }\n",
       "\n",
       "    .dataframe tbody tr th {\n",
       "        vertical-align: top;\n",
       "    }\n",
       "\n",
       "    .dataframe thead th {\n",
       "        text-align: right;\n",
       "    }\n",
       "</style>\n",
       "<table border=\"1\" class=\"dataframe\">\n",
       "  <thead>\n",
       "    <tr style=\"text-align: right;\">\n",
       "      <th></th>\n",
       "      <th>Recency</th>\n",
       "      <th>Frequency</th>\n",
       "      <th>MonetaryValue</th>\n",
       "    </tr>\n",
       "    <tr>\n",
       "      <th>CustomerID</th>\n",
       "      <th></th>\n",
       "      <th></th>\n",
       "      <th></th>\n",
       "    </tr>\n",
       "  </thead>\n",
       "  <tbody>\n",
       "    <tr>\n",
       "      <th>100012346</th>\n",
       "      <td>327</td>\n",
       "      <td>1</td>\n",
       "      <td>77183.60</td>\n",
       "    </tr>\n",
       "    <tr>\n",
       "      <th>100012347</th>\n",
       "      <td>3</td>\n",
       "      <td>7</td>\n",
       "      <td>4310.00</td>\n",
       "    </tr>\n",
       "    <tr>\n",
       "      <th>100012348</th>\n",
       "      <td>76</td>\n",
       "      <td>4</td>\n",
       "      <td>1797.24</td>\n",
       "    </tr>\n",
       "    <tr>\n",
       "      <th>100012349</th>\n",
       "      <td>19</td>\n",
       "      <td>1</td>\n",
       "      <td>1757.55</td>\n",
       "    </tr>\n",
       "    <tr>\n",
       "      <th>100012350</th>\n",
       "      <td>312</td>\n",
       "      <td>1</td>\n",
       "      <td>334.40</td>\n",
       "    </tr>\n",
       "  </tbody>\n",
       "</table>\n",
       "</div>"
      ],
      "text/plain": [
       "            Recency  Frequency  MonetaryValue\n",
       "CustomerID                                   \n",
       "100012346       327          1       77183.60\n",
       "100012347         3          7        4310.00\n",
       "100012348        76          4        1797.24\n",
       "100012349        19          1        1757.55\n",
       "100012350       312          1         334.40"
      ]
     },
     "execution_count": 21,
     "metadata": {},
     "output_type": "execute_result"
    }
   ],
   "source": [
    "data_process.head()"
   ]
  },
  {
   "cell_type": "code",
   "execution_count": null,
   "metadata": {},
   "outputs": [],
   "source": [
    "data_process.shape"
   ]
  },
  {
   "cell_type": "code",
   "execution_count": 23,
   "metadata": {},
   "outputs": [
    {
     "data": {
      "image/png": "[encoded data removed]",
      "text/plain": [
       "<Figure size 1152x1008 with 3 Axes>"
      ]
     },
     "metadata": {
      "needs_background": "light"
     },
     "output_type": "display_data"
    }
   ],
   "source": [
    "#Bring back the RFM distributions\n",
    "\n",
    "# Plot RFM distributions\n",
    "plt.figure(figsize=(16,14))\n",
    "\n",
    "# Plot distribution of R\n",
    "plt.subplot(4, 1, 1)\n",
    "sns.distplot(data_process['Recency'])\n",
    "\n",
    "# Plot distribution of F\n",
    "plt.subplot(4, 1, 2)\n",
    "sns.distplot(data_process['Frequency'])\n",
    "\n",
    "# Plot distribution of M\n",
    "plt.subplot(4, 1, 3)\n",
    "sns.distplot(data_process['MonetaryValue'])\n",
    "\n",
    "plt.show()"
   ]
  },
  {
   "cell_type": "code",
   "execution_count": null,
   "metadata": {},
   "outputs": [],
   "source": [
    "data_process"
   ]
  },
  {
   "cell_type": "code",
   "execution_count": null,
   "metadata": {},
   "outputs": [],
   "source": [
    "data_process.describe()"
   ]
  },
  {
   "cell_type": "code",
   "execution_count": 24,
   "metadata": {},
   "outputs": [
    {
     "data": {
      "image/png": "[encoded data removed]",
      "text/plain": [
       "<Figure size 1152x1008 with 3 Axes>"
      ]
     },
     "metadata": {
      "needs_background": "light"
     },
     "output_type": "display_data"
    }
   ],
   "source": [
    "#To fix the skewness in the data - Apply transformation on the data\n",
    "#Lets perform Log Transformation\n",
    "data_process['MonetaryValue'] = data_process['MonetaryValue'] + 0.000000001 #for the zero values\n",
    "recency_log = np.log(data_process['Recency'])\n",
    "frequency_log = np.log(data_process['Frequency'])\n",
    "monetary_log = np.log(data_process['MonetaryValue'])\n",
    "\n",
    "# Plot RFM distributions\n",
    "plt.figure(figsize=(16,14))\n",
    "\n",
    "# Plot distribution of R\n",
    "plt.subplot(4, 1, 1)\n",
    "sns.distplot(recency_log)\n",
    "\n",
    "# Plot distribution of F\n",
    "plt.subplot(4, 1, 2)\n",
    "sns.distplot(frequency_log)\n",
    "\n",
    "# Plot distribution of M\n",
    "plt.subplot(4, 1, 3)\n",
    "sns.distplot(monetary_log)\n",
    "plt.show()"
   ]
  },
  {
   "cell_type": "code",
   "execution_count": 25,
   "metadata": {},
   "outputs": [
    {
     "data": {
      "text/html": [
       "<div>\n",
       "<style scoped>\n",
       "    .dataframe tbody tr th:only-of-type {\n",
       "        vertical-align: middle;\n",
       "    }\n",
       "\n",
       "    .dataframe tbody tr th {\n",
       "        vertical-align: top;\n",
       "    }\n",
       "\n",
       "    .dataframe thead th {\n",
       "        text-align: right;\n",
       "    }\n",
       "</style>\n",
       "<table border=\"1\" class=\"dataframe\">\n",
       "  <thead>\n",
       "    <tr style=\"text-align: right;\">\n",
       "      <th></th>\n",
       "      <th>Recency</th>\n",
       "      <th>Frequency</th>\n",
       "      <th>Monetary Value</th>\n",
       "    </tr>\n",
       "    <tr>\n",
       "      <th>CustomerID</th>\n",
       "      <th></th>\n",
       "      <th></th>\n",
       "      <th></th>\n",
       "    </tr>\n",
       "  </thead>\n",
       "  <tbody>\n",
       "    <tr>\n",
       "      <th>100012346</th>\n",
       "      <td>5.789960</td>\n",
       "      <td>0.000000</td>\n",
       "      <td>11.253942</td>\n",
       "    </tr>\n",
       "    <tr>\n",
       "      <th>100012347</th>\n",
       "      <td>1.098612</td>\n",
       "      <td>1.945910</td>\n",
       "      <td>8.368693</td>\n",
       "    </tr>\n",
       "    <tr>\n",
       "      <th>100012348</th>\n",
       "      <td>4.330733</td>\n",
       "      <td>1.386294</td>\n",
       "      <td>7.494007</td>\n",
       "    </tr>\n",
       "    <tr>\n",
       "      <th>100012349</th>\n",
       "      <td>2.944439</td>\n",
       "      <td>0.000000</td>\n",
       "      <td>7.471676</td>\n",
       "    </tr>\n",
       "    <tr>\n",
       "      <th>100012350</th>\n",
       "      <td>5.743003</td>\n",
       "      <td>0.000000</td>\n",
       "      <td>5.812338</td>\n",
       "    </tr>\n",
       "  </tbody>\n",
       "</table>\n",
       "</div>"
      ],
      "text/plain": [
       "             Recency  Frequency  Monetary Value\n",
       "CustomerID                                     \n",
       "100012346   5.789960   0.000000       11.253942\n",
       "100012347   1.098612   1.945910        8.368693\n",
       "100012348   4.330733   1.386294        7.494007\n",
       "100012349   2.944439   0.000000        7.471676\n",
       "100012350   5.743003   0.000000        5.812338"
      ]
     },
     "execution_count": 25,
     "metadata": {},
     "output_type": "execute_result"
    }
   ],
   "source": [
    "data_process_log = pd.DataFrame({\"Recency\":recency_log,\n",
    "                                \"Frequency\":frequency_log,\n",
    "                                \"Monetary Value\":monetary_log,\n",
    "                                })\n",
    "data_process_log.head()"
   ]
  },
  {
   "cell_type": "code",
   "execution_count": 26,
   "metadata": {},
   "outputs": [
    {
     "data": {
      "text/html": [
       "<div>\n",
       "<style scoped>\n",
       "    .dataframe tbody tr th:only-of-type {\n",
       "        vertical-align: middle;\n",
       "    }\n",
       "\n",
       "    .dataframe tbody tr th {\n",
       "        vertical-align: top;\n",
       "    }\n",
       "\n",
       "    .dataframe thead th {\n",
       "        text-align: right;\n",
       "    }\n",
       "</style>\n",
       "<table border=\"1\" class=\"dataframe\">\n",
       "  <thead>\n",
       "    <tr style=\"text-align: right;\">\n",
       "      <th></th>\n",
       "      <th>Recency</th>\n",
       "      <th>Frequency</th>\n",
       "      <th>Monetary Value</th>\n",
       "    </tr>\n",
       "  </thead>\n",
       "  <tbody>\n",
       "    <tr>\n",
       "      <th>count</th>\n",
       "      <td>4339.000000</td>\n",
       "      <td>4339.000000</td>\n",
       "      <td>4339.000000</td>\n",
       "    </tr>\n",
       "    <tr>\n",
       "      <th>mean</th>\n",
       "      <td>3.801028</td>\n",
       "      <td>0.944320</td>\n",
       "      <td>6.584487</td>\n",
       "    </tr>\n",
       "    <tr>\n",
       "      <th>std</th>\n",
       "      <td>1.383885</td>\n",
       "      <td>0.900861</td>\n",
       "      <td>1.327190</td>\n",
       "    </tr>\n",
       "    <tr>\n",
       "      <th>min</th>\n",
       "      <td>0.000000</td>\n",
       "      <td>0.000000</td>\n",
       "      <td>-20.723266</td>\n",
       "    </tr>\n",
       "    <tr>\n",
       "      <th>25%</th>\n",
       "      <td>2.890372</td>\n",
       "      <td>0.000000</td>\n",
       "      <td>5.727645</td>\n",
       "    </tr>\n",
       "    <tr>\n",
       "      <th>50%</th>\n",
       "      <td>3.931826</td>\n",
       "      <td>0.693147</td>\n",
       "      <td>6.513898</td>\n",
       "    </tr>\n",
       "    <tr>\n",
       "      <th>75%</th>\n",
       "      <td>4.959336</td>\n",
       "      <td>1.609438</td>\n",
       "      <td>7.415560</td>\n",
       "    </tr>\n",
       "    <tr>\n",
       "      <th>max</th>\n",
       "      <td>5.926926</td>\n",
       "      <td>5.347108</td>\n",
       "      <td>12.543280</td>\n",
       "    </tr>\n",
       "  </tbody>\n",
       "</table>\n",
       "</div>"
      ],
      "text/plain": [
       "           Recency    Frequency  Monetary Value\n",
       "count  4339.000000  4339.000000     4339.000000\n",
       "mean      3.801028     0.944320        6.584487\n",
       "std       1.383885     0.900861        1.327190\n",
       "min       0.000000     0.000000      -20.723266\n",
       "25%       2.890372     0.000000        5.727645\n",
       "50%       3.931826     0.693147        6.513898\n",
       "75%       4.959336     1.609438        7.415560\n",
       "max       5.926926     5.347108       12.543280"
      ]
     },
     "execution_count": 26,
     "metadata": {},
     "output_type": "execute_result"
    }
   ],
   "source": [
    "data_process_log.describe()"
   ]
  },
  {
   "cell_type": "code",
   "execution_count": 27,
   "metadata": {},
   "outputs": [
    {
     "data": {
      "text/html": [
       "<div>\n",
       "<style scoped>\n",
       "    .dataframe tbody tr th:only-of-type {\n",
       "        vertical-align: middle;\n",
       "    }\n",
       "\n",
       "    .dataframe tbody tr th {\n",
       "        vertical-align: top;\n",
       "    }\n",
       "\n",
       "    .dataframe thead th {\n",
       "        text-align: right;\n",
       "    }\n",
       "</style>\n",
       "<table border=\"1\" class=\"dataframe\">\n",
       "  <thead>\n",
       "    <tr style=\"text-align: right;\">\n",
       "      <th></th>\n",
       "      <th>0</th>\n",
       "      <th>1</th>\n",
       "      <th>2</th>\n",
       "    </tr>\n",
       "  </thead>\n",
       "  <tbody>\n",
       "    <tr>\n",
       "      <th>count</th>\n",
       "      <td>4339.00</td>\n",
       "      <td>4339.00</td>\n",
       "      <td>4339.00</td>\n",
       "    </tr>\n",
       "    <tr>\n",
       "      <th>mean</th>\n",
       "      <td>0.00</td>\n",
       "      <td>-0.00</td>\n",
       "      <td>-0.00</td>\n",
       "    </tr>\n",
       "    <tr>\n",
       "      <th>std</th>\n",
       "      <td>1.00</td>\n",
       "      <td>1.00</td>\n",
       "      <td>1.00</td>\n",
       "    </tr>\n",
       "    <tr>\n",
       "      <th>min</th>\n",
       "      <td>-2.75</td>\n",
       "      <td>-1.05</td>\n",
       "      <td>-20.58</td>\n",
       "    </tr>\n",
       "    <tr>\n",
       "      <th>25%</th>\n",
       "      <td>-0.66</td>\n",
       "      <td>-1.05</td>\n",
       "      <td>-0.65</td>\n",
       "    </tr>\n",
       "    <tr>\n",
       "      <th>50%</th>\n",
       "      <td>0.09</td>\n",
       "      <td>-0.28</td>\n",
       "      <td>-0.05</td>\n",
       "    </tr>\n",
       "    <tr>\n",
       "      <th>75%</th>\n",
       "      <td>0.84</td>\n",
       "      <td>0.74</td>\n",
       "      <td>0.63</td>\n",
       "    </tr>\n",
       "    <tr>\n",
       "      <th>max</th>\n",
       "      <td>1.54</td>\n",
       "      <td>4.89</td>\n",
       "      <td>4.49</td>\n",
       "    </tr>\n",
       "  </tbody>\n",
       "</table>\n",
       "</div>"
      ],
      "text/plain": [
       "             0        1        2\n",
       "count  4339.00  4339.00  4339.00\n",
       "mean      0.00    -0.00    -0.00\n",
       "std       1.00     1.00     1.00\n",
       "min      -2.75    -1.05   -20.58\n",
       "25%      -0.66    -1.05    -0.65\n",
       "50%       0.09    -0.28    -0.05\n",
       "75%       0.84     0.74     0.63\n",
       "max       1.54     4.89     4.49"
      ]
     },
     "execution_count": 27,
     "metadata": {},
     "output_type": "execute_result"
    }
   ],
   "source": [
    "from sklearn.preprocessing import StandardScaler\n",
    "scaler = StandardScaler()\n",
    "\n",
    "scaler.fit(data_process_log)\n",
    "data_process_norm = scaler.transform(data_process_log)\n",
    "data_process_norm_df = pd.DataFrame(data_process_norm)\n",
    "data_process_norm_df.describe().round(2)"
   ]
  },
  {
   "cell_type": "code",
   "execution_count": 28,
   "metadata": {},
   "outputs": [
    {
     "data": {
      "text/html": [
       "<div>\n",
       "<style scoped>\n",
       "    .dataframe tbody tr th:only-of-type {\n",
       "        vertical-align: middle;\n",
       "    }\n",
       "\n",
       "    .dataframe tbody tr th {\n",
       "        vertical-align: top;\n",
       "    }\n",
       "\n",
       "    .dataframe thead th {\n",
       "        text-align: right;\n",
       "    }\n",
       "</style>\n",
       "<table border=\"1\" class=\"dataframe\">\n",
       "  <thead>\n",
       "    <tr style=\"text-align: right;\">\n",
       "      <th></th>\n",
       "      <th>Recency</th>\n",
       "      <th>Frequency</th>\n",
       "      <th>MonetaryValue</th>\n",
       "    </tr>\n",
       "  </thead>\n",
       "  <tbody>\n",
       "    <tr>\n",
       "      <th>0</th>\n",
       "      <td>1.437375</td>\n",
       "      <td>-1.048362</td>\n",
       "      <td>3.518708</td>\n",
       "    </tr>\n",
       "    <tr>\n",
       "      <th>1</th>\n",
       "      <td>-1.953000</td>\n",
       "      <td>1.111943</td>\n",
       "      <td>1.344504</td>\n",
       "    </tr>\n",
       "    <tr>\n",
       "      <th>2</th>\n",
       "      <td>0.382811</td>\n",
       "      <td>0.490670</td>\n",
       "      <td>0.685377</td>\n",
       "    </tr>\n",
       "    <tr>\n",
       "      <th>3</th>\n",
       "      <td>-0.619046</td>\n",
       "      <td>-1.048362</td>\n",
       "      <td>0.668549</td>\n",
       "    </tr>\n",
       "    <tr>\n",
       "      <th>4</th>\n",
       "      <td>1.403440</td>\n",
       "      <td>-1.048362</td>\n",
       "      <td>-0.581860</td>\n",
       "    </tr>\n",
       "  </tbody>\n",
       "</table>\n",
       "</div>"
      ],
      "text/plain": [
       "    Recency  Frequency  MonetaryValue\n",
       "0  1.437375  -1.048362       3.518708\n",
       "1 -1.953000   1.111943       1.344504\n",
       "2  0.382811   0.490670       0.685377\n",
       "3 -0.619046  -1.048362       0.668549\n",
       "4  1.403440  -1.048362      -0.581860"
      ]
     },
     "execution_count": 28,
     "metadata": {},
     "output_type": "execute_result"
    }
   ],
   "source": [
    "data_process_norm_df.columns = ['Recency','Frequency','MonetaryValue']\n",
    "data_process_norm_df.head()"
   ]
  },
  {
   "cell_type": "code",
   "execution_count": 29,
   "metadata": {},
   "outputs": [
    {
     "data": {
      "image/png": "[encoded data removed]",
      "text/plain": [
       "<Figure size 1152x1008 with 3 Axes>"
      ]
     },
     "metadata": {
      "needs_background": "light"
     },
     "output_type": "display_data"
    }
   ],
   "source": [
    "# Plot RFM distributions\n",
    "plt.figure(figsize=(16,14))\n",
    "# Plot distribution of R\n",
    "plt.subplot(4, 1, 1); sns.distplot(data_process_norm_df['Recency'])\n",
    "# Plot distribution of F\n",
    "plt.subplot(4, 1, 2); sns.distplot(data_process_norm_df['Frequency'])\n",
    "# Plot distribution of M\n",
    "plt.subplot(4, 1, 3); sns.distplot(data_process_norm_df['MonetaryValue'])\n",
    "plt.show()"
   ]
  },
  {
   "cell_type": "markdown",
   "metadata": {},
   "source": [
    "### Optimal Number of Clusters"
   ]
  },
  {
   "cell_type": "code",
   "execution_count": 30,
   "metadata": {},
   "outputs": [],
   "source": [
    "from sklearn.cluster import KMeans"
   ]
  },
  {
   "cell_type": "code",
   "execution_count": 31,
   "metadata": {},
   "outputs": [
    {
     "data": {
      "text/plain": [
       "(4339, 3)"
      ]
     },
     "execution_count": 31,
     "metadata": {},
     "output_type": "execute_result"
    }
   ],
   "source": [
    "data_process_norm_df.shape"
   ]
  },
  {
   "cell_type": "code",
   "execution_count": 32,
   "metadata": {},
   "outputs": [
    {
     "data": {
      "image/png": "[encoded data removed]",
      "text/plain": [
       "<Figure size 432x288 with 1 Axes>"
      ]
     },
     "metadata": {
      "needs_background": "light"
     },
     "output_type": "display_data"
    }
   ],
   "source": [
    "# Fit KMeans and calculate Inertia for each *k*\n",
    "Inertia = {}\n",
    "for k in range(1, 11):\n",
    "    kmeans = KMeans(n_clusters=k, random_state=6)\n",
    "    kmeans.fit(data_process_norm_df)\n",
    "    Inertia[k] = kmeans.inertia_\n",
    "# Plot Inertia for each *k*\n",
    "plt.title('The Elbow Method')\n",
    "plt.xlabel('k')\n",
    "plt.ylabel('Inertia')\n",
    "\n",
    "sns.pointplot(x=list(Inertia.keys()), y=list(Inertia.values()))\n",
    "plt.show()"
   ]
  },
  {
   "cell_type": "code",
   "execution_count": 33,
   "metadata": {},
   "outputs": [],
   "source": [
    "#Silhouette Method\n",
    "from sklearn.metrics import silhouette_score"
   ]
  },
  {
   "cell_type": "code",
   "execution_count": 34,
   "metadata": {},
   "outputs": [
    {
     "name": "stdout",
     "output_type": "stream",
     "text": [
      "[0.4304801632724635, 0.338052753906482, 0.3358061483952621, 0.30827049925896577, 0.3118675490728011, 0.30626256456665124, 0.3121140206172516, 0.30294080269417084]\n"
     ]
    },
    {
     "data": {
      "image/png": "[encoded data removed]",
      "text/plain": [
       "<Figure size 576x216 with 1 Axes>"
      ]
     },
     "metadata": {
      "needs_background": "light"
     },
     "output_type": "display_data"
    }
   ],
   "source": [
    "kmeans_per_k = [KMeans(n_clusters=k, random_state=42).fit(data_process_norm_df)\n",
    "                for k in range(1, 10)]\n",
    "silhouette_scores = [silhouette_score(data_process_norm_df, model.labels_)\n",
    "                     for model in kmeans_per_k[1:]]\n",
    "print(silhouette_scores)\n",
    "plt.figure(figsize=(8, 3))\n",
    "plt.plot(range(2, 10), silhouette_scores, \"bo-\")\n",
    "plt.xlabel(\"$k$\", fontsize=14)\n",
    "plt.ylabel(\"Silhouette score\", fontsize=14)\n",
    "plt.show()"
   ]
  },
  {
   "cell_type": "code",
   "execution_count": 35,
   "metadata": {},
   "outputs": [
    {
     "data": {
      "image/png": "[encoded data removed]",
      "text/plain": [
       "<Figure size 792x648 with 4 Axes>"
      ]
     },
     "metadata": {
      "needs_background": "light"
     },
     "output_type": "display_data"
    }
   ],
   "source": [
    "from sklearn.metrics import silhouette_samples\n",
    "from matplotlib.ticker import FixedLocator, FixedFormatter\n",
    "import matplotlib as mpl\n",
    "\n",
    "plt.figure(figsize=(11, 9))\n",
    "\n",
    "for k in (3, 4, 5, 6):\n",
    "    plt.subplot(2, 2, k - 2)\n",
    "    \n",
    "    y_pred = kmeans_per_k[k - 1].labels_\n",
    "    silhouette_coefficients = silhouette_samples(data_process_norm_df, y_pred)\n",
    "\n",
    "    padding = len(data_process_norm_df) // 30\n",
    "    pos = padding\n",
    "    ticks = []\n",
    "    for i in range(k):\n",
    "        coeffs = silhouette_coefficients[y_pred == i]\n",
    "        coeffs.sort()\n",
    "\n",
    "        color = mpl.cm.Spectral(i / k)\n",
    "        plt.fill_betweenx(np.arange(pos, pos + len(coeffs)), 0, coeffs,\n",
    "                          facecolor=color, edgecolor=color, alpha=0.7)\n",
    "        ticks.append(pos + len(coeffs) // 2)\n",
    "        pos += len(coeffs) + padding\n",
    "\n",
    "    plt.gca().yaxis.set_major_locator(FixedLocator(ticks))\n",
    "    plt.gca().yaxis.set_major_formatter(FixedFormatter(range(k)))\n",
    "    if k in (3, 5):\n",
    "        plt.ylabel(\"Cluster\")\n",
    "    \n",
    "    if k in (5, 6):\n",
    "        plt.gca().set_xticks([-0.1, 0, 0.2, 0.4, 0.6, 0.8, 1])\n",
    "        plt.xlabel(\"Silhouette Coefficient\")\n",
    "    else:\n",
    "        plt.tick_params(labelbottom=False)\n",
    "\n",
    "    plt.axvline(x=silhouette_scores[k - 2], color=\"red\", linestyle=\"--\")\n",
    "    plt.title(\"$k={}$\".format(k), fontsize=16)\n",
    "\n",
    "plt.show()"
   ]
  },
  {
   "cell_type": "code",
   "execution_count": 36,
   "metadata": {},
   "outputs": [
    {
     "data": {
      "text/html": [
       "<div>\n",
       "<style scoped>\n",
       "    .dataframe tbody tr th:only-of-type {\n",
       "        vertical-align: middle;\n",
       "    }\n",
       "\n",
       "    .dataframe tbody tr th {\n",
       "        vertical-align: top;\n",
       "    }\n",
       "\n",
       "    .dataframe thead th {\n",
       "        text-align: right;\n",
       "    }\n",
       "</style>\n",
       "<table border=\"1\" class=\"dataframe\">\n",
       "  <thead>\n",
       "    <tr style=\"text-align: right;\">\n",
       "      <th></th>\n",
       "      <th>Recency</th>\n",
       "      <th>Frequency</th>\n",
       "      <th>MonetaryValue</th>\n",
       "      <th>Cluster</th>\n",
       "    </tr>\n",
       "    <tr>\n",
       "      <th>Cluster</th>\n",
       "      <th></th>\n",
       "      <th></th>\n",
       "      <th></th>\n",
       "      <th></th>\n",
       "    </tr>\n",
       "  </thead>\n",
       "  <tbody>\n",
       "    <tr>\n",
       "      <th>0</th>\n",
       "      <td>191.0</td>\n",
       "      <td>1.0</td>\n",
       "      <td>343.0</td>\n",
       "      <td>1496</td>\n",
       "    </tr>\n",
       "    <tr>\n",
       "      <th>1</th>\n",
       "      <td>11.0</td>\n",
       "      <td>13.0</td>\n",
       "      <td>7527.0</td>\n",
       "      <td>778</td>\n",
       "    </tr>\n",
       "    <tr>\n",
       "      <th>2</th>\n",
       "      <td>74.0</td>\n",
       "      <td>4.0</td>\n",
       "      <td>1728.0</td>\n",
       "      <td>1236</td>\n",
       "    </tr>\n",
       "    <tr>\n",
       "      <th>3</th>\n",
       "      <td>22.0</td>\n",
       "      <td>2.0</td>\n",
       "      <td>489.0</td>\n",
       "      <td>829</td>\n",
       "    </tr>\n",
       "  </tbody>\n",
       "</table>\n",
       "</div>"
      ],
      "text/plain": [
       "         Recency  Frequency  MonetaryValue  Cluster\n",
       "Cluster                                            \n",
       "0          191.0        1.0          343.0     1496\n",
       "1           11.0       13.0         7527.0      778\n",
       "2           74.0        4.0         1728.0     1236\n",
       "3           22.0        2.0          489.0      829"
      ]
     },
     "execution_count": 36,
     "metadata": {},
     "output_type": "execute_result"
    }
   ],
   "source": [
    "kmeans = KMeans(n_clusters=4, random_state=1)\n",
    "kmeans.fit(data_process_norm_df)\n",
    "# Assign k-means labels to cluster labels\n",
    "cluster_labels = kmeans.labels_\n",
    "# Assign cluster labels to original pre-transformed data set\n",
    "data_process_k4 = data_process.assign(Cluster = cluster_labels)\n",
    "# Group data set by k-means cluster\n",
    "data_process_k4.groupby(['Cluster']).agg({\n",
    "    'Recency': 'mean',\n",
    "    'Frequency': 'mean',\n",
    "    'MonetaryValue': 'mean',\n",
    "    \"Cluster\":\"count\",\n",
    "}).round(0)"
   ]
  },
  {
   "cell_type": "code",
   "execution_count": null,
   "metadata": {
    "scrolled": true
   },
   "outputs": [],
   "source": [
    "data_process_k4"
   ]
  },
  {
   "cell_type": "code",
   "execution_count": null,
   "metadata": {},
   "outputs": [],
   "source": [
    "data_process_k4[\"Cluster\"].value_counts()"
   ]
  },
  {
   "cell_type": "code",
   "execution_count": null,
   "metadata": {},
   "outputs": [],
   "source": [
    "data_process_norm_df"
   ]
  },
  {
   "cell_type": "code",
   "execution_count": null,
   "metadata": {},
   "outputs": [],
   "source": [
    "# Import libraries\n",
    "from mpl_toolkits import mplot3d\n",
    "%matplotlib notebook"
   ]
  },
  {
   "cell_type": "code",
   "execution_count": null,
   "metadata": {},
   "outputs": [],
   "source": [
    "# Creating figure\n",
    "fig = plt.figure(figsize = (10, 7))\n",
    "ax = plt.axes(projection =\"3d\")\n",
    "\n",
    "# Creating plot\n",
    "ax.scatter3D(data_process_norm_df[(data_process_k4[\"Cluster\"] == 0).values][\"Recency\"], \n",
    "             data_process_norm_df[(data_process_k4[\"Cluster\"] == 0).values][\"Frequency\"], \n",
    "             data_process_norm_df[(data_process_k4[\"Cluster\"] == 0).values][\"MonetaryValue\"], \n",
    "             c = \"red\",label = \"Cluster 0\",alpha=0.3)\n",
    "\n",
    "ax.scatter3D(data_process_norm_df[(data_process_k4[\"Cluster\"] == 1).values][\"Recency\"], \n",
    "             data_process_norm_df[(data_process_k4[\"Cluster\"] == 1).values][\"Frequency\"],\n",
    "             data_process_norm_df[(data_process_k4[\"Cluster\"] == 1).values][\"MonetaryValue\"], \n",
    "             c = \"blue\",label = \"Cluster 1\",alpha=0.3)\n",
    "\n",
    "ax.scatter3D(data_process_norm_df[(data_process_k4[\"Cluster\"] == 2).values][\"Recency\"],\n",
    "             data_process_norm_df[(data_process_k4[\"Cluster\"] == 2).values][\"Frequency\"], \n",
    "             data_process_norm_df[(data_process_k4[\"Cluster\"] == 2).values][\"MonetaryValue\"], \n",
    "             c = \"black\",label = \"Cluster 2\",alpha=0.3)\n",
    "\n",
    "ax.scatter3D(data_process_norm_df[(data_process_k4[\"Cluster\"] == 3).values][\"Recency\"],\n",
    "             data_process_norm_df[(data_process_k4[\"Cluster\"] == 3).values][\"Frequency\"], \n",
    "             data_process_norm_df[(data_process_k4[\"Cluster\"] == 3).values][\"MonetaryValue\"], \n",
    "             c = \"yellow\",label = \"Cluster 3\",alpha=0.3)\n",
    "\n",
    "ax.set_xlabel(\"Recency\")\n",
    "ax.set_ylabel(\"Frequency\")\n",
    "ax.set_zlabel(\"Monetary Value\")\n",
    "plt.title(\"Scatter Plot of Clusters\")\n",
    "plt.legend()\n",
    "# show plot\n",
    "plt.show()\n"
   ]
  },
  {
   "cell_type": "code",
   "execution_count": null,
   "metadata": {},
   "outputs": [],
   "source": []
  },
  {
   "cell_type": "code",
   "execution_count": null,
   "metadata": {},
   "outputs": [],
   "source": []
  }
 ],
 "metadata": {
  "kernelspec": {
   "display_name": "Python 3",
   "language": "python",
   "name": "python3"
  },
  "language_info": {
   "codemirror_mode": {
    "name": "ipython",
    "version": 3
   },
   "file_extension": ".py",
   "mimetype": "text/x-python",
   "name": "python",
   "nbconvert_exporter": "python",
   "pygments_lexer": "ipython3",
   "version": "3.8.3"
  }
 },
 "nbformat": 4,
 "nbformat_minor": 2
}
